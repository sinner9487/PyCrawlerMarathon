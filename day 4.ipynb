{
 "cells": [
  {
   "cell_type": "code",
   "execution_count": 3,
   "metadata": {},
   "outputs": [
    {
     "name": "stdout",
     "output_type": "stream",
     "text": [
      "<!DOCTYPE html PUBLIC \"-//W3C//DTD XHTML 1.0 Strict//EN\" \"http://www.w3.org/TR/xhtml1/DTD/xhtml1-strict.dtd\">\r\n",
      "<html xmlns=\"http://www.w3.org/1999/xhtml\">\r\n",
      "<head>\r\n",
      "<meta http-equiv=\"Content-Type\" content=\"text/html; charset=big5\"/>\r\n",
      "<title>502 - ºô­¶¦øªA¾¹°µ¬°¹h¹D¾¹©Î Proxy ¦øªA¾¹®É¦¬¨ìµL®Äªº¦^À³¡C</title>\r\n",
      "<style type=\"text/css\">\r\n",
      "<!--\r\n",
      "body{margin:0;font-size:.7em;font-family:Verdana, Arial, Helvetica, sans-serif;background:#EEEEEE;}\r\n",
      "fieldset{padding:0 15px 10px 15px;} \r\n",
      "h1{font-size:2.4em;margin:0;color:#FFF;}\r\n",
      "h2{font-size:1.7em;margin:0;color:#CC0000;} \r\n",
      "h3{font-size:1.2em;margin:10px 0 0 0;color:#000000;} \r\n",
      "#header{width:96%;margin:0 0 0 0;padding:6px 2% 6px 2%;font-family:\"trebuchet MS\", Verdana, sans-serif;color:#FFF;\r\n",
      "background-color:#555555;}\r\n",
      "#content{margin:0 0 0 2%;position:relative;}\r\n",
      ".content-container{background:#FFF;width:96%;margin-top:9px;padding:10px;position:relative;}\r\n",
      "-->\r\n",
      "</style>\r\n",
      "</head>\r\n",
      "<body>\r\n",
      "<div id=\"header\"><h1>¦øªA¾¹¿ù»~</h1></div>\r\n",
      "<div id=\"content\">\r\n",
      " <div class=\"content-container\"><fieldset>\r\n",
      "  <h2>502 - ºô­¶¦øªA¾¹°µ¬°¹h¹D¾¹©Î Proxy ¦øªA¾¹®É¦¬¨ìµL®Äªº¦^À³¡C</h2>\r\n",
      "  <h3>±z­n´M§äªººô­¶µo¥Í°ÝÃD¦ÓµLªkÅã¥Ü¡C·íºô­¶¦øªA¾¹ (¦P®É¤]¬O¹h¹D¾¹©Î Proxy) ³sµ¸¤W´å¤º®e¦øªA¾¹®É¡A¥¦¦¬¨ì¨Ó¦Û¤º®e¦øªA¾¹ªºµL®Ä¦^À³¡C</h3>\r\n",
      " </fieldset></div>\r\n",
      "</div>\r\n",
      "</body>\r\n",
      "</html>\r\n",
      "\n"
     ]
    }
   ],
   "source": [
    "import requests\n",
    "\n",
    "r = requests.get(\"http://odata.wra.gov.tw/v4/RealtimeWaterLevel\")\n",
    "\n",
    "response = r.text\n",
    "\n",
    "print(response)"
   ]
  },
  {
   "cell_type": "code",
   "execution_count": null,
   "metadata": {},
   "outputs": [],
   "source": []
  }
 ],
 "metadata": {
  "kernelspec": {
   "display_name": "Python 3",
   "language": "python",
   "name": "python3"
  },
  "language_info": {
   "codemirror_mode": {
    "name": "ipython",
    "version": 3
   },
   "file_extension": ".py",
   "mimetype": "text/x-python",
   "name": "python",
   "nbconvert_exporter": "python",
   "pygments_lexer": "ipython3",
   "version": "3.7.6"
  }
 },
 "nbformat": 4,
 "nbformat_minor": 4
}
